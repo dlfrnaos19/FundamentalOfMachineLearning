{
 "cells": [
  {
   "cell_type": "code",
   "execution_count": 1,
   "id": "1610237b",
   "metadata": {},
   "outputs": [
    {
     "name": "stdout",
     "output_type": "stream",
     "text": [
      "Model: \"sequential\"\n",
      "_________________________________________________________________\n",
      "Layer (type)                 Output Shape              Param #   \n",
      "=================================================================\n",
      "dense (Dense)                (None, 50)                39250     \n",
      "_________________________________________________________________\n",
      "dense_1 (Dense)              (None, 10)                510       \n",
      "=================================================================\n",
      "Total params: 39,760\n",
      "Trainable params: 39,760\n",
      "Non-trainable params: 0\n",
      "_________________________________________________________________\n",
      "Epoch 1/10\n",
      "1875/1875 [==============================] - 4s 1ms/step - loss: 0.4954 - accuracy: 0.8830\n",
      "Epoch 2/10\n",
      "1875/1875 [==============================] - 3s 2ms/step - loss: 0.2319 - accuracy: 0.9341\n",
      "Epoch 3/10\n",
      "1875/1875 [==============================] - 3s 2ms/step - loss: 0.1817 - accuracy: 0.9475\n",
      "Epoch 4/10\n",
      "1875/1875 [==============================] - 3s 1ms/step - loss: 0.1511 - accuracy: 0.9564\n",
      "Epoch 5/10\n",
      "1875/1875 [==============================] - 3s 1ms/step - loss: 0.1295 - accuracy: 0.9630\n",
      "Epoch 6/10\n",
      "1875/1875 [==============================] - 3s 2ms/step - loss: 0.1138 - accuracy: 0.9677\n",
      "Epoch 7/10\n",
      "1875/1875 [==============================] - 3s 1ms/step - loss: 0.1017 - accuracy: 0.9713\n",
      "Epoch 8/10\n",
      "1875/1875 [==============================] - 3s 2ms/step - loss: 0.0912 - accuracy: 0.9743\n",
      "Epoch 9/10\n",
      "1875/1875 [==============================] - 3s 1ms/step - loss: 0.0826 - accuracy: 0.9771\n",
      "Epoch 10/10\n",
      "1875/1875 [==============================] - 3s 1ms/step - loss: 0.0758 - accuracy: 0.9787\n",
      "313/313 - 0s - loss: 0.1018 - accuracy: 0.9694\n",
      "test_loss: 0.1017734631896019 \n",
      "test_accuracy: 0.9693999886512756\n"
     ]
    }
   ],
   "source": [
    "import tensorflow as tf\n",
    "from tensorflow import keras\n",
    "import numpy as np\n",
    "import matplotlib.pyplot as plt\n",
    "\n",
    "# MNIST 데이터를 로드. 다운로드하지 않았다면 다운로드까지 자동으로 진행됩니다. \n",
    "mnist = keras.datasets.mnist\n",
    "(x_train, y_train), (x_test, y_test) = mnist.load_data()   \n",
    "\n",
    "# 모델에 맞게 데이터 가공\n",
    "x_train_norm, x_test_norm = x_train / 255.0, x_test / 255.0\n",
    "x_train_reshaped = x_train_norm.reshape(-1, x_train_norm.shape[1]*x_train_norm.shape[2])\n",
    "x_test_reshaped = x_test_norm.reshape(-1, x_test_norm.shape[1]*x_test_norm.shape[2])\n",
    "\n",
    "# 딥러닝 모델 구성 - 2 Layer Perceptron\n",
    "model=keras.models.Sequential()\n",
    "model.add(keras.layers.Dense(50, activation='sigmoid', input_shape=(784,)))  # 입력층 d=784, 은닉층 레이어 H=50\n",
    "model.add(keras.layers.Dense(10, activation='softmax'))   # 출력층 레이어 K=10\n",
    "model.summary()\n",
    "\n",
    "# 모델 구성과 학습\n",
    "model.compile(optimizer='adam',\n",
    "             loss='sparse_categorical_crossentropy',\n",
    "             metrics=['accuracy'])\n",
    "model.fit(x_train_reshaped, y_train, epochs=10)\n",
    "\n",
    "# 모델 테스트 결과\n",
    "test_loss, test_accuracy = model.evaluate(x_test_reshaped,y_test, verbose=2)\n",
    "print(\"test_loss: {} \".format(test_loss))\n",
    "print(\"test_accuracy: {}\".format(test_accuracy))"
   ]
  },
  {
   "cell_type": "code",
   "execution_count": 2,
   "id": "ec468e25",
   "metadata": {},
   "outputs": [
    {
     "name": "stdout",
     "output_type": "stream",
     "text": [
      "(60000, 784)\n",
      "(5, 784)\n"
     ]
    }
   ],
   "source": [
    "# 입력층 데이터의 모양(shape)\n",
    "print(x_train_reshaped.shape)\n",
    "\n",
    "# 테스트를 위해 x_train_reshaped의 앞 5개의 데이터를 가져온다.\n",
    "X = x_train_reshaped[:5]\n",
    "print(X.shape)"
   ]
  },
  {
   "cell_type": "code",
   "execution_count": 3,
   "id": "40ec200b",
   "metadata": {},
   "outputs": [
    {
     "name": "stdout",
     "output_type": "stream",
     "text": [
      "(784, 50) (50,) (5, 50)\n"
     ]
    }
   ],
   "source": [
    "weight_init_std = 0.1\n",
    "input_size = 784\n",
    "hidden_size = 50\n",
    "\n",
    "W1 = weight_init_std * np.random.randn(input_size, hidden_size)\n",
    "b1 = np.zeros(hidden_size)\n",
    "a1 = np.dot(X, W1) + b1\n",
    "\n",
    "print(W1.shape, b1.shape, a1.shape)"
   ]
  },
  {
   "cell_type": "code",
   "execution_count": 4,
   "id": "81abb2c0",
   "metadata": {
    "scrolled": true
   },
   "outputs": [
    {
     "data": {
      "text/plain": [
       "array([-0.21053544, -1.28847032, -0.08912362, -1.44059212, -0.56709579,\n",
       "        2.267777  , -0.62555006, -0.92068202,  1.79416831,  1.51563612,\n",
       "       -1.63079907, -0.59095816,  0.6817219 , -0.26606285,  2.39835807,\n",
       "        0.74647388, -0.38499228,  0.41248978,  0.6763039 ,  0.42337816,\n",
       "        0.68399423, -0.85016107, -0.33520698, -0.95593008, -0.80152258,\n",
       "        0.60221867, -0.29902984, -0.22510584,  0.44002485,  1.72860197,\n",
       "       -1.16634494,  1.25923541, -1.38477307,  2.19370096,  0.08261039,\n",
       "        0.01426925,  0.4504334 ,  0.3181092 , -1.38616845,  1.0492983 ,\n",
       "       -0.08533564,  0.5016137 ,  0.13927996, -0.16881868, -0.06849459,\n",
       "        0.49676714,  0.46800196,  0.16846011,  1.32249932,  0.90361266])"
      ]
     },
     "execution_count": 4,
     "metadata": {},
     "output_type": "execute_result"
    }
   ],
   "source": [
    "a1[0]"
   ]
  },
  {
   "attachments": {
    "image.png": {
     "image/png": "[encoded data removed]"
    }
   },
   "cell_type": "markdown",
   "id": "a2c32ade",
   "metadata": {},
   "source": [
    "![image.png](attachment:image.png)"
   ]
  },
  {
   "cell_type": "markdown",
   "id": "9e4f84f6",
   "metadata": {},
   "source": [
    "시그모이드 함수 구현"
   ]
  },
  {
   "cell_type": "code",
   "execution_count": 6,
   "id": "b9dd71b2",
   "metadata": {},
   "outputs": [
    {
     "name": "stdout",
     "output_type": "stream",
     "text": [
      "[0.4475597  0.21611184 0.47773383 0.19145367 0.36190723 0.90617295\n",
      " 0.34852023 0.28481895 0.85743756 0.81989498 0.16372093 0.35641504\n",
      " 0.6641229  0.43387391 0.91670201 0.67840989 0.40492339 0.60168473\n",
      " 0.66291327 0.60429133 0.66462958 0.29939907 0.41697423 0.2776938\n",
      " 0.30969992 0.64616374 0.42579466 0.44395998 0.60826495 0.84923351\n",
      " 0.23751629 0.77889446 0.20024352 0.89968243 0.52064086 0.50356725\n",
      " 0.61074227 0.57886338 0.20002015 0.74064013 0.47867903 0.62283848\n",
      " 0.53476381 0.45789528 0.48288304 0.6216993  0.61491074 0.54201571\n",
      " 0.78959723 0.71169134]\n"
     ]
    }
   ],
   "source": [
    "def sigmoid(x):\n",
    "    return 1 / (1 + np.exp(-x))\n",
    "z1 = sigmoid(a1)\n",
    "print(z1[0])"
   ]
  },
  {
   "cell_type": "markdown",
   "id": "e4e401cf",
   "metadata": {},
   "source": [
    "_그라디언트 소실로 잘 쓰지 않음_"
   ]
  },
  {
   "attachments": {
    "image.png": {
     "image/png": "[encoded data removed]"
    }
   },
   "cell_type": "markdown",
   "id": "987df1b5",
   "metadata": {},
   "source": [
    "Tanh 함수\n",
    "![image.png](attachment:image.png)  \n",
    "그라디언트 소실 존재"
   ]
  },
  {
   "cell_type": "code",
   "execution_count": 8,
   "id": "1ea18151",
   "metadata": {},
   "outputs": [],
   "source": [
    "def tanh(x):\n",
    "    return np.exp(x)-np.exp(-x) / np.exp(x)+np.exp(-x)"
   ]
  },
  {
   "attachments": {
    "image.png": {
     "image/png": "[encoded data removed]"
    }
   },
   "cell_type": "markdown",
   "id": "3442b6c4",
   "metadata": {},
   "source": [
    "Relu\n",
    "![image.png](attachment:image.png)  \n",
    "\n"
   ]
  },
  {
   "cell_type": "code",
   "execution_count": 9,
   "id": "d72ae8be",
   "metadata": {},
   "outputs": [],
   "source": [
    "def relu(x):\n",
    "    return max(0, x)"
   ]
  },
  {
   "cell_type": "markdown",
   "id": "82c843af",
   "metadata": {},
   "source": [
    "단일 레이어 구현"
   ]
  },
  {
   "cell_type": "code",
   "execution_count": 11,
   "id": "04bea42f",
   "metadata": {},
   "outputs": [],
   "source": [
    "def affine_layer_forward(X, W, b):\n",
    "    y = np.dot(X, W) + b\n",
    "    cache = (X, W, b)\n",
    "    return y, cache"
   ]
  },
  {
   "cell_type": "code",
   "execution_count": 12,
   "id": "9471c8ef",
   "metadata": {},
   "outputs": [
    {
     "name": "stdout",
     "output_type": "stream",
     "text": [
      "[-0.18820751  0.27623162 -0.28509004 -0.54844539  0.03428592  0.82645791\n",
      " -0.13863879 -0.31736364 -0.5251513   0.03248395]\n"
     ]
    }
   ],
   "source": [
    "input_size = 784\n",
    "hidden_size = 50\n",
    "output_size = 10\n",
    "\n",
    "W1 = weight_init_std * np.random.randn(input_size, hidden_size)\n",
    "b1 = np.zeros(hidden_size)\n",
    "W2 = weight_init_std * np.random.randn(hidden_size, output_size)\n",
    "b2 = np.zeros(output_size)\n",
    "\n",
    "a1, cache1 = affine_layer_forward(X, W1, b1)\n",
    "z1 = sigmoid(a1)\n",
    "a2, cache2 = affine_layer_forward(z1, W2, b2)\n",
    "\n",
    "print(a2[0])"
   ]
  },
  {
   "cell_type": "code",
   "execution_count": 13,
   "id": "54b270a8",
   "metadata": {},
   "outputs": [],
   "source": [
    "def softmax(x):\n",
    "    if x.ndim ==2:\n",
    "        x = x.T\n",
    "        x = x - np.max(x, axis=0)\n",
    "        y = np.exp(x) / np.sum(np.exp(x), axis=0)\n",
    "        return y.T\n",
    "\n",
    "    x = x - np.max(x)\n",
    "    return np.exp(x) / np.sum(np.exp(x))"
   ]
  },
  {
   "cell_type": "code",
   "execution_count": 14,
   "id": "cbe28e03",
   "metadata": {},
   "outputs": [
    {
     "data": {
      "text/plain": [
       "array([0.08268245, 0.13155783, 0.07504777, 0.05767187, 0.1032859 ,\n",
       "       0.22807461, 0.08688419, 0.07266438, 0.05903105, 0.10309995])"
      ]
     },
     "execution_count": 14,
     "metadata": {},
     "output_type": "execute_result"
    }
   ],
   "source": [
    "y_hat = softmax(a2)\n",
    "y_hat[0]"
   ]
  },
  {
   "cell_type": "markdown",
   "id": "64e45e78",
   "metadata": {},
   "source": [
    "손실함수  \n",
    "* 평균제곱오차\n",
    "* 교차 엔트로피(Cross Entropy)"
   ]
  },
  {
   "cell_type": "code",
   "execution_count": 15,
   "id": "0cc125ea",
   "metadata": {},
   "outputs": [
    {
     "data": {
      "text/plain": [
       "array([[0., 0., 0., 0., 0., 1., 0., 0., 0., 0.],\n",
       "       [1., 0., 0., 0., 0., 0., 0., 0., 0., 0.],\n",
       "       [0., 0., 0., 0., 1., 0., 0., 0., 0., 0.],\n",
       "       [0., 1., 0., 0., 0., 0., 0., 0., 0., 0.],\n",
       "       [0., 0., 0., 0., 0., 0., 0., 0., 0., 1.]])"
      ]
     },
     "execution_count": 15,
     "metadata": {},
     "output_type": "execute_result"
    }
   ],
   "source": [
    "def _change_one_hot_label(X, num_category):\n",
    "    T = np.zeros((X.size, num_category))\n",
    "    for idx, row in enumerate(T):\n",
    "        row[X[idx]] = 1\n",
    "    return T\n",
    "\n",
    "Y_digit = y_train[:5]\n",
    "t = _change_one_hot_label(Y_digit, 10)\n",
    "t"
   ]
  },
  {
   "cell_type": "code",
   "execution_count": 18,
   "id": "4de657e5",
   "metadata": {
    "scrolled": true
   },
   "outputs": [
    {
     "name": "stdout",
     "output_type": "stream",
     "text": [
      "[0.08268245 0.13155783 0.07504777 0.05767187 0.1032859  0.22807461\n",
      " 0.08688419 0.07266438 0.05903105 0.10309995]\n",
      "[0. 0. 0. 0. 0. 1. 0. 0. 0. 0.]\n"
     ]
    }
   ],
   "source": [
    "print(y_hat[0], t[0], sep='\\n')"
   ]
  },
  {
   "cell_type": "code",
   "execution_count": 19,
   "id": "027cff5e",
   "metadata": {},
   "outputs": [
    {
     "data": {
      "text/plain": [
       "2.1479189432067423"
      ]
     },
     "execution_count": 19,
     "metadata": {},
     "output_type": "execute_result"
    }
   ],
   "source": [
    "def cross_entropy_error(y,t):\n",
    "    if y.ndim ==1:\n",
    "        t = t.reshape(1, t.size)\n",
    "        y = y.reshape(1, y.size)\n",
    "    if t.size == y.size:\n",
    "        t = t.argmax(axis=1)\n",
    "    \n",
    "    batch_size = y.shape[0]\n",
    "    return -np.sum(np.log(y[np.arange(batch_size), t])) / batch_size\n",
    "\n",
    "Loss = cross_entropy_error(y_hat, t)\n",
    "Loss"
   ]
  },
  {
   "cell_type": "code",
   "execution_count": 20,
   "id": "f117b35a",
   "metadata": {},
   "outputs": [
    {
     "data": {
      "text/plain": [
       "array([[ 0.01653649,  0.02631157,  0.01500955,  0.01153437,  0.02065718,\n",
       "        -0.15438508,  0.01737684,  0.01453288,  0.01180621,  0.02061999],\n",
       "       [-0.18562445,  0.0327516 ,  0.01335916,  0.01135751,  0.0201227 ,\n",
       "         0.04297252,  0.01722487,  0.01662416,  0.01331452,  0.01789741],\n",
       "       [ 0.01838462,  0.02464241,  0.01294011,  0.01458368, -0.18227476,\n",
       "         0.04197933,  0.01442157,  0.01646039,  0.01422965,  0.024633  ],\n",
       "       [ 0.01640023, -0.17224042,  0.01209559,  0.01426851,  0.01599712,\n",
       "         0.04356533,  0.01518701,  0.01547803,  0.01428729,  0.02496132],\n",
       "       [ 0.01457866,  0.03201459,  0.01148614,  0.01347559,  0.01900338,\n",
       "         0.03888483,  0.01377136,  0.02002269,  0.01527125, -0.1785085 ]])"
      ]
     },
     "execution_count": 20,
     "metadata": {},
     "output_type": "execute_result"
    }
   ],
   "source": [
    "batch_num = y_hat.shape[0]\n",
    "dy = (y_hat -t) / batch_num\n",
    "dy #softmax값 출력으로 loss 미분"
   ]
  },
  {
   "cell_type": "code",
   "execution_count": 23,
   "id": "cecd96ef",
   "metadata": {},
   "outputs": [],
   "source": [
    "dW2 = np.dot(z1.T, dy)\n",
    "dW2\n",
    "db2 = np.sum(dy, axis=0)"
   ]
  },
  {
   "cell_type": "code",
   "execution_count": 24,
   "id": "642a6b26",
   "metadata": {},
   "outputs": [],
   "source": [
    "def sigmoid_grad(x):\n",
    "    return (1.0 - sigmoid(x)) * sigmoid(x)"
   ]
  },
  {
   "cell_type": "code",
   "execution_count": 25,
   "id": "d404d7b0",
   "metadata": {},
   "outputs": [],
   "source": [
    "dz1 = np.dot(dy, W2.T)\n",
    "da1 = sigmoid_grad(a1) * dz1\n",
    "dW1 = np.dot(X.T, da1)\n",
    "db1 = np.sum(dz1, axis=0)"
   ]
  },
  {
   "cell_type": "code",
   "execution_count": 26,
   "id": "3a581fdc",
   "metadata": {},
   "outputs": [],
   "source": [
    "learning_rate = 0.1\n",
    "\n",
    "def update_params(W1, b1, W2, b2, dW1, db1, dW2, db2, learning_rate):\n",
    "    W1 = W1 - learning_rate*dW1\n",
    "    b1 = b1 - learning_rate*db1\n",
    "    W2 = W2 - learning_rate*dW2\n",
    "    b2 = b2 - learning_rate*db2\n",
    "    return W1,b1,W2,b2"
   ]
  },
  {
   "cell_type": "code",
   "execution_count": 32,
   "id": "ed11ffdd",
   "metadata": {},
   "outputs": [],
   "source": [
    "def affine_layer_backward(dy, cache):\n",
    "    X, W, b = cache\n",
    "    dX = np.dot(dy, W.T)\n",
    "    dW = np.dot(X.T, dy)\n",
    "    db = np.sum(dy, axis=0)\n",
    "    return dX, dW, db"
   ]
  },
  {
   "cell_type": "code",
   "execution_count": 34,
   "id": "c78d6ee1",
   "metadata": {},
   "outputs": [
    {
     "name": "stdout",
     "output_type": "stream",
     "text": [
      "[[0.13466196 0.10407653 0.07671962 0.1359547  0.11912246 0.09791215\n",
      "  0.17007857 0.04356539 0.05325935 0.06464928]\n",
      " [0.12981117 0.11637866 0.06699754 0.1771726  0.09276577 0.12125533\n",
      "  0.11785526 0.04411712 0.06595958 0.06768697]\n",
      " [0.15541051 0.08761766 0.07096232 0.14941421 0.11490553 0.1195253\n",
      "  0.12650622 0.0437049  0.06016576 0.0717876 ]\n",
      " [0.12629468 0.1055097  0.06576857 0.16883143 0.10197541 0.11108188\n",
      "  0.15335326 0.04682369 0.05613971 0.06422166]\n",
      " [0.14576302 0.11541332 0.07248588 0.12761173 0.09841564 0.12548886\n",
      "  0.14137851 0.04709166 0.0531919  0.07315949]]\n",
      "[[0. 0. 0. 0. 0. 1. 0. 0. 0. 0.]\n",
      " [1. 0. 0. 0. 0. 0. 0. 0. 0. 0.]\n",
      " [0. 0. 0. 0. 1. 0. 0. 0. 0. 0.]\n",
      " [0. 1. 0. 0. 0. 0. 0. 0. 0. 0.]\n",
      " [0. 0. 0. 0. 0. 0. 0. 0. 0. 1.]]\n",
      "Loss:  2.278613981069144\n"
     ]
    }
   ],
   "source": [
    "# 파라미터 초기화\n",
    "W1 = weight_init_std * np.random.randn(input_size, hidden_size)\n",
    "b1 = np.zeros(hidden_size)\n",
    "W2 = weight_init_std * np.random.randn(hidden_size, output_size)\n",
    "b2 = np.zeros(output_size)\n",
    "\n",
    "# 순전파\n",
    "a1, cache1 = affine_layer_forward(X, W1, b1)\n",
    "z1 = sigmoid(a1)\n",
    "a2, cache2 = affine_layer_forward(z1, W2, b2)\n",
    "\n",
    "# 추론과 오차계산\n",
    "y_hat = softmax(a2)\n",
    "t = _change_one_hot_label(Y_digit, 10) # 정답 원핫 인코딩\n",
    "Loss = cross_entropy_error(y_hat, t)\n",
    "\n",
    "print(y_hat)\n",
    "print(t)\n",
    "print('Loss: ', Loss)\n",
    "\n",
    "dy = (y_hat - t) / X.shape[0]\n",
    "dz1, dW2, db2 = affine_layer_backward(dy, cache2)\n",
    "da1 = sigmoid_grad(a1) * dz1\n",
    "dX, dW1, db1 = affine_layer_backward(da1, cache1)\n",
    "\n",
    "# 경사하강법으로 파라미터 업데이트\n",
    "learning_rate = 0.1\n",
    "W1, b1, W2, b2 = update_params(W1, b1, W2, b2,dW1,db1, dW2, db2, learning_rate)"
   ]
  },
  {
   "cell_type": "code",
   "execution_count": 37,
   "id": "bc0ad82f",
   "metadata": {},
   "outputs": [],
   "source": [
    "W1 = weight_init_std * np.random.randn(input_size, hidden_size)\n",
    "b1 = np.zeros(hidden_size)\n",
    "W2 = weight_init_std * np.random.randn(hidden_size, output_size)\n",
    "b2 = np.zeros(output_size)\n",
    "\n",
    "def train_step(X, Y, W1, b1, W2, b2, learning_rate=0.1, verbose=False):\n",
    "    a1, cache1 = affine_layer_forward(X, W1, b1)\n",
    "    z1 = sigmoid(a1)\n",
    "    a2,cache2 = affine_layer_forward(z1, W2, b2)\n",
    "    y_hat = softmax(a2)\n",
    "    t = _change_one_hot_label(Y, 10)\n",
    "    Loss = cross_entropy_error(y_hat, t)\n",
    "    \n",
    "    if verbose:\n",
    "        print('---------')\n",
    "        print(y_hat)\n",
    "        print(t)\n",
    "        print('Loss: ', Loss)\n",
    "    \n",
    "    dy = (y_hat - t) / X.shape[0]\n",
    "    dz1, dW2, db2 = affine_layer_backward(dy, cache2)\n",
    "    da1 = sigmoid_grad(a1) * dz1\n",
    "    dX, dW1, db1 = affine_layer_backward(da1, cache1)\n",
    "    \n",
    "    W1, b1, W2, b2 = update_params(W1, b1, W2, b2, dW1, db1, dW2, db2, learning_rate)\n",
    "    \n",
    "    return W1, b1, W2, b2, Loss"
   ]
  },
  {
   "cell_type": "code",
   "execution_count": 38,
   "id": "5424597a",
   "metadata": {},
   "outputs": [
    {
     "name": "stdout",
     "output_type": "stream",
     "text": [
      "---------\n",
      "[[0.10325116 0.06960857 0.10604549 0.07031311 0.13831682 0.13077422\n",
      "  0.05922663 0.09789564 0.0547566  0.16981175]\n",
      " [0.11350412 0.07634394 0.09895971 0.06518777 0.13933767 0.11852207\n",
      "  0.05998201 0.11225091 0.05527987 0.16063193]\n",
      " [0.09113433 0.11088672 0.1047822  0.0748477  0.1531879  0.11026519\n",
      "  0.06343694 0.09566834 0.05831546 0.13747521]\n",
      " [0.09719888 0.0883814  0.12084414 0.0659879  0.1350653  0.11173802\n",
      "  0.06122883 0.11018882 0.05830618 0.15106053]\n",
      " [0.0952757  0.09957865 0.10557834 0.08696817 0.11857711 0.11796176\n",
      "  0.06153101 0.11140789 0.06636987 0.1367515 ]]\n",
      "[[0. 0. 0. 0. 0. 1. 0. 0. 0. 0.]\n",
      " [1. 0. 0. 0. 0. 0. 0. 0. 0. 0.]\n",
      " [0. 0. 0. 0. 1. 0. 0. 0. 0. 0.]\n",
      " [0. 1. 0. 0. 0. 0. 0. 0. 0. 0.]\n",
      " [0. 0. 0. 0. 0. 0. 0. 0. 0. 1.]]\n",
      "Loss:  2.1003945362072214\n",
      "---------\n",
      "[[0.11763459 0.07941964 0.08894961 0.06134399 0.14588048 0.14901372\n",
      "  0.05265823 0.08205167 0.04975637 0.17329171]\n",
      " [0.13441348 0.08645667 0.08163683 0.05650115 0.14773481 0.13110604\n",
      "  0.05334435 0.09414943 0.0493605  0.16529674]\n",
      " [0.102219   0.12592226 0.08761913 0.0650319  0.17150616 0.11790428\n",
      "  0.05648297 0.07976922 0.05181406 0.14173102]\n",
      " [0.10947713 0.10663529 0.10185298 0.05850898 0.14522346 0.12246755\n",
      "  0.05495884 0.09252167 0.05271997 0.15563413]\n",
      " [0.10792951 0.11262028 0.08931164 0.07718542 0.12776004 0.12773207\n",
      "  0.05520482 0.09463569 0.05988159 0.14773894]]\n",
      "[[0. 0. 0. 0. 0. 1. 0. 0. 0. 0.]\n",
      " [1. 0. 0. 0. 0. 0. 0. 0. 0. 0.]\n",
      " [0. 0. 0. 0. 1. 0. 0. 0. 0. 0.]\n",
      " [0. 1. 0. 0. 0. 0. 0. 0. 0. 0.]\n",
      " [0. 0. 0. 0. 0. 0. 0. 0. 0. 1.]]\n",
      "Loss:  1.9648673552453335\n",
      "---------\n",
      "[[0.13037299 0.08812932 0.07578139 0.05374527 0.15030416 0.16569672\n",
      "  0.04680591 0.069827   0.04517805 0.17415919]\n",
      " [0.15449176 0.0950108  0.06844299 0.04919033 0.15276231 0.14119334\n",
      "  0.04741977 0.08023195 0.04400782 0.16724895]\n",
      " [0.11148753 0.13912061 0.07441153 0.05673768 0.18757463 0.12303907\n",
      "  0.05030142 0.06752083 0.04600892 0.14379777]\n",
      " [0.11963215 0.12490823 0.08712319 0.05202714 0.15228077 0.13068062\n",
      "  0.04927383 0.07882745 0.04757137 0.15767525]\n",
      " [0.11903923 0.12403896 0.07658914 0.06873479 0.13446329 0.13507421\n",
      "  0.04949786 0.08152068 0.05394487 0.15709697]]\n",
      "[[0. 0. 0. 0. 0. 1. 0. 0. 0. 0.]\n",
      " [1. 0. 0. 0. 0. 0. 0. 0. 0. 0.]\n",
      " [0. 0. 0. 0. 1. 0. 0. 0. 0. 0.]\n",
      " [0. 1. 0. 0. 0. 0. 0. 0. 0. 0.]\n",
      " [0. 0. 0. 0. 0. 0. 0. 0. 0. 1.]]\n",
      "Loss:  1.8539714247755967\n",
      "---------\n",
      "[[0.14140386 0.09566002 0.06544209 0.04736563 0.15244127 0.18107954\n",
      "  0.04170915 0.06021263 0.04110859 0.17357722]\n",
      " [0.17352161 0.10198826 0.05820829 0.04310194 0.15535636 0.14921925\n",
      "  0.04227133 0.06933847 0.03931344 0.16768105]\n",
      " [0.11898589 0.15042089 0.06407852 0.04981331 0.20201195 0.12622111\n",
      "  0.04494535 0.05793535 0.04096416 0.14462346]\n",
      " [0.12769058 0.14294375 0.07550426 0.04649443 0.1570246  0.13679975\n",
      "  0.04426616 0.06803378 0.04298318 0.1582595 ]\n",
      " [0.12858735 0.13379904 0.06648709 0.06153936 0.13929366 0.14045993\n",
      "  0.04448774 0.07110553 0.04867789 0.16556242]]\n",
      "[[0. 0. 0. 0. 0. 1. 0. 0. 0. 0.]\n",
      " [1. 0. 0. 0. 0. 0. 0. 0. 0. 0.]\n",
      " [0. 0. 0. 0. 1. 0. 0. 0. 0. 0.]\n",
      " [0. 1. 0. 0. 0. 0. 0. 0. 0. 0.]\n",
      " [0. 0. 0. 0. 0. 0. 0. 0. 0. 1.]]\n",
      "Loss:  1.7606823002101817\n",
      "---------\n",
      "[[0.15075763 0.10199723 0.05718403 0.04201311 0.15297183 0.19544805\n",
      "  0.03731253 0.05252032 0.03753983 0.17225544]\n",
      " [0.19140338 0.10744833 0.05013443 0.03803754 0.15626591 0.15560667\n",
      "  0.03784822 0.06067003 0.03525285 0.16733264]\n",
      " [0.12483535 0.15984928 0.05586552 0.04404404 0.21538339 0.12792559\n",
      "  0.04035285 0.05031772 0.0366306  0.14479565]\n",
      " [0.13378701 0.16055856 0.06619442 0.04179221 0.16010929 0.14123485\n",
      "  0.03991118 0.05939245 0.03895782 0.15806222]\n",
      " [0.13662886 0.14193554 0.05835175 0.05543843 0.14275759 0.14431384\n",
      "  0.04014267 0.06271424 0.04407197 0.17364512]]\n",
      "[[0. 0. 0. 0. 0. 1. 0. 0. 0. 0.]\n",
      " [1. 0. 0. 0. 0. 0. 0. 0. 0. 0.]\n",
      " [0. 0. 0. 0. 1. 0. 0. 0. 0. 0.]\n",
      " [0. 1. 0. 0. 0. 0. 0. 0. 0. 0.]\n",
      " [0. 0. 0. 0. 0. 0. 0. 0. 0. 1.]]\n",
      "Loss:  1.680201322894451\n"
     ]
    }
   ],
   "source": [
    "X = x_train_reshaped[:5]\n",
    "Y = y_train[:5]\n",
    "\n",
    "# train_steop 다섯번\n",
    "for i in range(5):\n",
    "    W1, b1, W2, b2, _ = train_step(X, Y, W1, b1, W2, b2, learning_rate=0.1, verbose=True)"
   ]
  },
  {
   "cell_type": "code",
   "execution_count": 39,
   "id": "491b2323",
   "metadata": {},
   "outputs": [],
   "source": [
    "def predict(W1, b1, W2, b2, X):\n",
    "    a1 = np.dot(X, W1) + b1\n",
    "    z1 = sigmoid(a1)\n",
    "    a2 = np.dot(z1, W2) + b2\n",
    "    y = softmax(a2)\n",
    "    \n",
    "    return y"
   ]
  },
  {
   "cell_type": "code",
   "execution_count": 40,
   "id": "2b97fa6d",
   "metadata": {},
   "outputs": [
    {
     "data": {
      "text/plain": [
       "array([0.15853661, 0.10718072, 0.05048693, 0.03750708, 0.15239557,\n",
       "       0.20906929, 0.03353015, 0.04627103, 0.0344259 , 0.17059673])"
      ]
     },
     "execution_count": 40,
     "metadata": {},
     "output_type": "execute_result"
    }
   ],
   "source": [
    "X = x_train_reshaped[:100]\n",
    "Y = y_test[:100]\n",
    "result = predict(W1, b1, W2, b2, X)\n",
    "result[0]"
   ]
  },
  {
   "cell_type": "code",
   "execution_count": 41,
   "id": "72c73518",
   "metadata": {},
   "outputs": [],
   "source": [
    "def accuracy(W1, b1, W2, b2, x, y):\n",
    "    y_hat = predict(W1, b1, W2, b2, x)\n",
    "    y_hat = np.argmax(y_hat, axis=1)\n",
    "    \n",
    "    accuracy = np.sum(y_hat == y) / float(x.shape[0])\n",
    "    return accuracy\n"
   ]
  },
  {
   "cell_type": "code",
   "execution_count": 42,
   "id": "60a508ec",
   "metadata": {},
   "outputs": [
    {
     "name": "stdout",
     "output_type": "stream",
     "text": [
      "[0.15853661 0.10718072 0.05048693 0.03750708 0.15239557 0.20906929\n",
      " 0.03353015 0.04627103 0.0344259  0.17059673]\n",
      "[0. 0. 0. 0. 0. 0. 0. 1. 0. 0.]\n",
      "0.06\n"
     ]
    }
   ],
   "source": [
    "acc = accuracy(W1, b1, W2, b2, X, Y)\n",
    "\n",
    "t = _change_one_hot_label(Y, 10)\n",
    "print(result[0])\n",
    "print(t[0])\n",
    "print(acc)"
   ]
  },
  {
   "cell_type": "code",
   "execution_count": 43,
   "id": "4e046a40",
   "metadata": {},
   "outputs": [],
   "source": [
    "def init_params(input_size, hidden_size, output_size, weight_init_std=0.01):\n",
    "    \n",
    "    W1 = weight_init_std * np.random.randn(input_size, hidden_size)\n",
    "    b1 = np.zeros(hidden_size)\n",
    "    W2 = weight_init_std * np.random.randn(hidden_size, output_size)\n",
    "    b2 = np.zeros(output_size)\n",
    "    \n",
    "    print(W1.shape, b1.shape, W2.shape, b2.shape, sep='\\n')\n",
    "    return W1, b1, W2, b2\n",
    "    "
   ]
  },
  {
   "cell_type": "code",
   "execution_count": 50,
   "id": "5035f9b0",
   "metadata": {},
   "outputs": [
    {
     "name": "stdout",
     "output_type": "stream",
     "text": [
      "(784, 50)\n",
      "(50,)\n",
      "(50, 10)\n",
      "(10,)\n",
      "Loss:  2.296991330105015\n",
      "train acc, test acc | 0.09915, 0.1009\n",
      "Loss:  0.8517271804140145\n",
      "train acc, test acc | 0.7919833333333334, 0.7966\n"
     ]
    }
   ],
   "source": [
    "iters_num = 1000\n",
    "train_size = x_train.shape[0]\n",
    "batch_size = 100\n",
    "learning_rate = 0.1\n",
    "\n",
    "train_loss_list = []\n",
    "train_acc_list = []\n",
    "test_acc_list = []\n",
    "\n",
    "iter_per_epoch = max(train_size / batch_size, 1)\n",
    "\n",
    "W1, b1, W2, b2 = init_params(784, 50, 10)\n",
    "\n",
    "for i in range(iters_num):\n",
    "    # 미니배치 획득\n",
    "    batch_mask = np.random.choice(train_size, batch_size)\n",
    "    x_batch = x_train_reshaped[batch_mask]\n",
    "    y_batch = y_train[batch_mask]\n",
    "    \n",
    "    W1, b1, W2, b2, Loss = train_step(x_batch, y_batch, W1, b1, W2, b2, learning_rate=0.1, verbose=False)\n",
    "    # 학습 결과 기록\n",
    "    train_loss_list.append(Loss)\n",
    "    \n",
    "    # 1에폭당 정확도\n",
    "    if i % iter_per_epoch == 0:\n",
    "        print('Loss: ', Loss)\n",
    "        train_acc = accuracy(W1, b1, W2, b2, x_train_reshaped, y_train)\n",
    "        test_acc = accuracy(W1, b1, W2, b2, x_test_reshaped, y_test)\n",
    "        train_acc_list.append(train_acc)\n",
    "        test_acc_list.append(test_acc)\n",
    "        print(\"train acc, test acc | \" + str(train_acc) + \", \" + str(test_acc))\n",
    "        "
   ]
  },
  {
   "cell_type": "code",
   "execution_count": 51,
   "id": "0f407938",
   "metadata": {},
   "outputs": [
    {
     "data": {
      "image/png": "[encoded data removed]",
      "text/plain": [
       "<Figure size 864x432 with 1 Axes>"
      ]
     },
     "metadata": {
      "needs_background": "light"
     },
     "output_type": "display_data"
    }
   ],
   "source": [
    "from matplotlib.pylab import rcParams\n",
    "rcParams['figure.figsize'] = 12, 6\n",
    "\n",
    "markers = {'train': 'o', 'test':'s'}\n",
    "x = np.arange(len(train_acc_list))\n",
    "plt.plot(x, train_acc_list, label='train acc')\n",
    "plt.plot(x, test_acc_list, label='test acc', linestyle='--')\n",
    "plt.xlabel(\"epochs\")\n",
    "plt.ylabel('accuracy')\n",
    "plt.ylim(0,1.0)\n",
    "plt.legend(loc='lower right')\n",
    "plt.show()"
   ]
  },
  {
   "cell_type": "code",
   "execution_count": 52,
   "id": "b6de7791",
   "metadata": {},
   "outputs": [
    {
     "data": {
      "image/png": "[encoded data removed]",
      "text/plain": [
       "<Figure size 864x432 with 1 Axes>"
      ]
     },
     "metadata": {
      "needs_background": "light"
     },
     "output_type": "display_data"
    }
   ],
   "source": [
    "x = np.arange(len(train_loss_list))\n",
    "plt.plot(x, train_loss_list, label='train acc')\n",
    "plt.xlabel(\"epochs\")\n",
    "plt.ylabel('Loss')\n",
    "plt.ylim(0, 3.0)\n",
    "plt.legend(loc='best')\n",
    "plt.show()"
   ]
  },
  {
   "cell_type": "code",
   "execution_count": null,
   "id": "1269ffbe",
   "metadata": {},
   "outputs": [],
   "source": []
  }
 ],
 "metadata": {
  "kernelspec": {
   "display_name": "Python 3 (ipykernel)",
   "language": "python",
   "name": "python3"
  },
  "language_info": {
   "codemirror_mode": {
    "name": "ipython",
    "version": 3
   },
   "file_extension": ".py",
   "mimetype": "text/x-python",
   "name": "python",
   "nbconvert_exporter": "python",
   "pygments_lexer": "ipython3",
   "version": "3.9.7"
  }
 },
 "nbformat": 4,
 "nbformat_minor": 5
}
