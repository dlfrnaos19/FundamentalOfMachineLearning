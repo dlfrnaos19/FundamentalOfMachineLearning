{
  "nbformat": 4,
  "nbformat_minor": 0,
  "metadata": {
    "colab": {
      "name": "Fundamentals13_EverythingInPythonIsObject.ipynb",
      "provenance": [],
      "authorship_tag": "ABX9TyO83R/CgpFptf8ypefTpNK2",
      "include_colab_link": true
    },
    "kernelspec": {
      "name": "python3",
      "display_name": "Python 3"
    },
    "language_info": {
      "name": "python"
    }
  },
  "cells": [
    {
      "cell_type": "markdown",
      "metadata": {
        "id": "view-in-github",
        "colab_type": "text"
      },
      "source": [
        "<a href=\"https://colab.research.google.com/github/dlfrnaos19/FundamentalOfMachineLearning/blob/main/Fundamentals13_EverythingInPythonIsObject.ipynb\" target=\"_parent\"><img src=\"https://colab.research.google.com/assets/colab-badge.svg\" alt=\"Open In Colab\"/></a>"
      ]
    },
    {
      "cell_type": "markdown",
      "source": [
        "[Everything is an Object](https://linux.die.net/diveintopython/html/getting_to_know_python/everything_is_an_object.html)"
      ],
      "metadata": {
        "id": "VyQVSRtNjoS_"
      }
    },
    {
      "cell_type": "markdown",
      "source": [
        "This is so important that I'm going to repeat it in case you missed it the first few times: everything in Python is an object. Strings are objects. Lists are objects. Functions are objects. Even modules are objects."
      ],
      "metadata": {
        "id": "Yq15tA2Bj1Pl"
      }
    },
    {
      "cell_type": "markdown",
      "source": [
        "모든 것은 변수에 할당되고, 함수의 인자로 넘겨질 수도 있다"
      ],
      "metadata": {
        "id": "ZbHg42ttj_Y-"
      }
    },
    {
      "cell_type": "code",
      "source": [
        "myvar = 3\n",
        "myvar"
      ],
      "metadata": {
        "colab": {
          "base_uri": "https://localhost:8080/"
        },
        "id": "gL8FloCUj0lx",
        "outputId": "b22e2cac-83d4-4c46-961f-f2ad7e6a9176"
      },
      "execution_count": 2,
      "outputs": [
        {
          "output_type": "execute_result",
          "data": {
            "text/plain": [
              "3"
            ]
          },
          "metadata": {},
          "execution_count": 2
        }
      ]
    },
    {
      "cell_type": "code",
      "source": [
        "myword = 'cat'\n",
        "myword"
      ],
      "metadata": {
        "colab": {
          "base_uri": "https://localhost:8080/",
          "height": 35
        },
        "id": "2hNH2hBrkJla",
        "outputId": "881c6dbb-0e7b-418d-c904-e180c15028a9"
      },
      "execution_count": 3,
      "outputs": [
        {
          "output_type": "execute_result",
          "data": {
            "application/vnd.google.colaboratory.intrinsic+json": {
              "type": "string"
            },
            "text/plain": [
              "'cat'"
            ]
          },
          "metadata": {},
          "execution_count": 3
        }
      ]
    },
    {
      "cell_type": "code",
      "source": [
        "myword.upper()"
      ],
      "metadata": {
        "colab": {
          "base_uri": "https://localhost:8080/",
          "height": 35
        },
        "id": "NdBCT7fTkM9k",
        "outputId": "1759af8d-9287-4c9e-8eaf-ebcb61497be7"
      },
      "execution_count": 4,
      "outputs": [
        {
          "output_type": "execute_result",
          "data": {
            "application/vnd.google.colaboratory.intrinsic+json": {
              "type": "string"
            },
            "text/plain": [
              "'CAT'"
            ]
          },
          "metadata": {},
          "execution_count": 4
        }
      ]
    },
    {
      "cell_type": "code",
      "source": [
        "'cat'.upper()"
      ],
      "metadata": {
        "colab": {
          "base_uri": "https://localhost:8080/",
          "height": 35
        },
        "id": "S5hDtKXgkRMl",
        "outputId": "5fa0fe04-e632-4ffe-f051-5b57860d4fa2"
      },
      "execution_count": 5,
      "outputs": [
        {
          "output_type": "execute_result",
          "data": {
            "application/vnd.google.colaboratory.intrinsic+json": {
              "type": "string"
            },
            "text/plain": [
              "'CAT'"
            ]
          },
          "metadata": {},
          "execution_count": 5
        }
      ]
    },
    {
      "cell_type": "markdown",
      "source": [
        "## id(object)\n",
        "* Return the \"identity\" of an object\n",
        "* This is an integer which is guaranteed to be unique and constant for this object during its lifetime.  \n",
        "\n",
        "[Python Document](https://docs.python.org/3/library/functions.html#id)"
      ],
      "metadata": {
        "id": "chD167rDkbup"
      }
    },
    {
      "cell_type": "code",
      "source": [
        "var = 4"
      ],
      "metadata": {
        "id": "QWFwxpNylIS4"
      },
      "execution_count": 6,
      "outputs": []
    },
    {
      "cell_type": "code",
      "source": [
        "# Same identity\n",
        "print(id(var), id(4))"
      ],
      "metadata": {
        "colab": {
          "base_uri": "https://localhost:8080/"
        },
        "id": "lD5Tj9shkVxi",
        "outputId": "4b286d18-211b-44af-9153-d16de87d4e00"
      },
      "execution_count": 12,
      "outputs": [
        {
          "output_type": "stream",
          "name": "stdout",
          "text": [
            "93980383369824 93980383369824\n"
          ]
        }
      ]
    },
    {
      "cell_type": "markdown",
      "source": [
        "## Shallow copy"
      ],
      "metadata": {
        "id": "_KM9rAFMmHij"
      }
    },
    {
      "cell_type": "code",
      "source": [
        "list_1 = [1,2,3]\n",
        "list_2 = list_1\n",
        "list_2"
      ],
      "metadata": {
        "colab": {
          "base_uri": "https://localhost:8080/"
        },
        "id": "CqWxkhKLlLLT",
        "outputId": "9bf4ebc9-d6f0-4569-e97a-8b5e239f342d"
      },
      "execution_count": 8,
      "outputs": [
        {
          "output_type": "execute_result",
          "data": {
            "text/plain": [
              "[1, 2, 3]"
            ]
          },
          "metadata": {},
          "execution_count": 8
        }
      ]
    },
    {
      "cell_type": "code",
      "source": [
        "# add value in list 1\n",
        "list_1.append(4)\n",
        "print(list_1)"
      ],
      "metadata": {
        "colab": {
          "base_uri": "https://localhost:8080/"
        },
        "id": "PNsPJlnIlcu5",
        "outputId": "427220ba-2bc0-4546-a4a6-1f577cd29444"
      },
      "execution_count": 9,
      "outputs": [
        {
          "output_type": "stream",
          "name": "stdout",
          "text": [
            "[1, 2, 3, 4]\n"
          ]
        }
      ]
    },
    {
      "cell_type": "code",
      "source": [
        "# list_2 got value as well\n",
        "print(list_2)"
      ],
      "metadata": {
        "colab": {
          "base_uri": "https://localhost:8080/"
        },
        "id": "d_9h0OsqllSt",
        "outputId": "997f20ae-6fbe-4be5-f266-532d7621563c"
      },
      "execution_count": 10,
      "outputs": [
        {
          "output_type": "stream",
          "name": "stdout",
          "text": [
            "[1, 2, 3, 4]\n"
          ]
        }
      ]
    },
    {
      "cell_type": "code",
      "source": [
        "# same identity, Shallow copy happened\n",
        "print(id(list_1),id(list_2))"
      ],
      "metadata": {
        "colab": {
          "base_uri": "https://localhost:8080/"
        },
        "id": "hYacv5nDlq33",
        "outputId": "f28ecdde-c6a5-4b9f-c857-930bf55cc7b1"
      },
      "execution_count": 11,
      "outputs": [
        {
          "output_type": "stream",
          "name": "stdout",
          "text": [
            "139734278482112 139734278482112\n"
          ]
        }
      ]
    },
    {
      "cell_type": "markdown",
      "source": [
        "## copy - Shallow and deep copy operations\n",
        "* copy.copy(x) Return a shallow copy of x\n",
        "* copy.deepcopy(x) Return a deep copy of x\n",
        "* exception copy.Error Raised for module specific errors\n",
        "\n",
        "**The diffrence between shallow and deep copy**  \n",
        "* A shallow copy constructs a new compound object and then (to the extent possible) inserts references into it to the objects found in the original\n",
        "  \n",
        "* A deep copy constructs a new compound object and then, recursively, inserts copies into it of the objects found in the original\n",
        "\n",
        "[Python Document](https://docs.python.org/3/library/copy.html)"
      ],
      "metadata": {
        "id": "59p4Y5D9mUCd"
      }
    },
    {
      "cell_type": "markdown",
      "source": [
        "얕은 복사 : 객체를 복사 한후에 가능한 원본 객체에서 찾은 참조를 복사본에 삽입하는 것  \n",
        "\n",
        "깊은 복사 : 객체를 복사 한후에 재귀적으로 원본 객체의 복사본을 복사하여 삽입\n"
      ],
      "metadata": {
        "id": "EIbqx-0xoPSQ"
      }
    },
    {
      "cell_type": "markdown",
      "source": [
        "## Object Oriented Programming\n",
        "최초에 변수와 함수로만 짜던 프로그래밍으로\n",
        "표현의 제약이 크고 프로그램이 커질수록 관리가 어려워지면서 나타난 방법론\n",
        "객체간의 상호작용, 데이터를 안전하게 보관,\n",
        "거대한 프로그램을 오류없이 작성가능하게 하는 장점\n",
        "\n",
        "## Procedural Programming\n",
        "데이터를 함수로 어떻게 처리할지에 대한 방법론\n",
        "분산 데이터 처리에 효율적\n",
        "\n"
      ],
      "metadata": {
        "id": "Xtdbi37npKxA"
      }
    },
    {
      "cell_type": "code",
      "source": [
        "# python object\n",
        "class Car:\n",
        "    pass\n",
        "\n",
        "class Car():\n",
        "    pass\n",
        "# same value\n",
        "print(id(Car))\n",
        "print(id(Car))\n",
        "# diffrent value\n",
        "print(id(Car()))\n",
        "print(id(Car()))\n",
        "\n",
        "print(type(Car), type(Car()))"
      ],
      "metadata": {
        "colab": {
          "base_uri": "https://localhost:8080/"
        },
        "id": "YqZ9sU60l131",
        "outputId": "a9f585b9-eb28-47e1-c893-ab99963b07eb"
      },
      "execution_count": 13,
      "outputs": [
        {
          "output_type": "stream",
          "name": "stdout",
          "text": [
            "93980444210336\n",
            "93980444210336\n",
            "139734278373648\n",
            "139734278442384\n",
            "<class 'type'> <class '__main__.Car'>\n"
          ]
        }
      ]
    },
    {
      "cell_type": "code",
      "source": [
        "# python instance from class\n",
        "car1 = Car()\n",
        "car2 = Car()\n",
        "print(id(car1), id(car2))"
      ],
      "metadata": {
        "colab": {
          "base_uri": "https://localhost:8080/"
        },
        "id": "qKIWvURarZuO",
        "outputId": "251da76c-c6fa-48f8-aeab-5c11cf2682c7"
      },
      "execution_count": 14,
      "outputs": [
        {
          "output_type": "stream",
          "name": "stdout",
          "text": [
            "139734278375184 139734278374800\n"
          ]
        }
      ]
    },
    {
      "cell_type": "markdown",
      "source": [
        "Class -> Camel Case, Noun  \n",
        "function -> snake_case, Verb  \n",
        "[PEP8](https://www.python.org/dev/peps/pep-0008/)"
      ],
      "metadata": {
        "id": "THb9_JOpsN-t"
      }
    },
    {
      "cell_type": "markdown",
      "source": [
        "class has state with inner variables  \n",
        "class does behavior with class methods"
      ],
      "metadata": {
        "id": "fafMii8ktrM3"
      }
    },
    {
      "cell_type": "code",
      "source": [
        "class Car:\n",
        "    '''class attributes tells us the state of class'''\n",
        "\n",
        "\n",
        "    color = 'red'\n",
        "    category = 'sports car'\n",
        "    '''drive start'''\n",
        "    def drive(self):\n",
        "        print(\"I`m driving\")\n",
        "    '''accelate'''\n",
        "    def accel(self, speed_up, current_speed=10):\n",
        "        self.speed_up = speed_up\n",
        "        self.current_speed = current_speed + speed_up\n",
        "        print(\"speed up\", self.speed_up, \"driving at\", self.current_speed)"
      ],
      "metadata": {
        "id": "EJlMrdBysh3W"
      },
      "execution_count": 16,
      "outputs": []
    },
    {
      "cell_type": "code",
      "source": [
        "Car1 = Car()"
      ],
      "metadata": {
        "id": "GXmZ-xTwuZNj"
      },
      "execution_count": 17,
      "outputs": []
    },
    {
      "cell_type": "code",
      "source": [
        "Car1.color"
      ],
      "metadata": {
        "colab": {
          "base_uri": "https://localhost:8080/",
          "height": 35
        },
        "id": "MELowQFCvBJo",
        "outputId": "f6d5867c-ed47-4101-9416-52633b4f0642"
      },
      "execution_count": 18,
      "outputs": [
        {
          "output_type": "execute_result",
          "data": {
            "application/vnd.google.colaboratory.intrinsic+json": {
              "type": "string"
            },
            "text/plain": [
              "'red'"
            ]
          },
          "metadata": {},
          "execution_count": 18
        }
      ]
    },
    {
      "cell_type": "code",
      "source": [
        "# no attribute\n",
        "Car1.price"
      ],
      "metadata": {
        "colab": {
          "base_uri": "https://localhost:8080/",
          "height": 172
        },
        "id": "kqyPd1jHvDpE",
        "outputId": "973c102c-3d55-4f0f-8f6e-1ce4e6d5226d"
      },
      "execution_count": 19,
      "outputs": [
        {
          "output_type": "error",
          "ename": "AttributeError",
          "evalue": "ignored",
          "traceback": [
            "\u001b[0;31m---------------------------------------------------------------------------\u001b[0m",
            "\u001b[0;31mAttributeError\u001b[0m                            Traceback (most recent call last)",
            "\u001b[0;32m<ipython-input-19-d20c23ad35aa>\u001b[0m in \u001b[0;36m<module>\u001b[0;34m()\u001b[0m\n\u001b[0;32m----> 1\u001b[0;31m \u001b[0mCar1\u001b[0m\u001b[0;34m.\u001b[0m\u001b[0mprice\u001b[0m\u001b[0;34m\u001b[0m\u001b[0;34m\u001b[0m\u001b[0m\n\u001b[0m",
            "\u001b[0;31mAttributeError\u001b[0m: 'Car' object has no attribute 'price'"
          ]
        }
      ]
    },
    {
      "cell_type": "code",
      "source": [
        "Car1.drive()"
      ],
      "metadata": {
        "colab": {
          "base_uri": "https://localhost:8080/"
        },
        "id": "eTM24lBwvHyN",
        "outputId": "6a0391f6-f17d-4258-a6aa-f6dbb4f70109"
      },
      "execution_count": 20,
      "outputs": [
        {
          "output_type": "stream",
          "name": "stdout",
          "text": [
            "I`m driving\n"
          ]
        }
      ]
    },
    {
      "cell_type": "code",
      "source": [
        "#don`t need to input self parameter\n",
        "Car1.accel(5) "
      ],
      "metadata": {
        "colab": {
          "base_uri": "https://localhost:8080/"
        },
        "id": "dQE9ITyDvcc8",
        "outputId": "a8afde7e-9458-4514-e004-00899ecc0074"
      },
      "execution_count": 21,
      "outputs": [
        {
          "output_type": "stream",
          "name": "stdout",
          "text": [
            "speed up 5 driving at 15\n"
          ]
        }
      ]
    },
    {
      "cell_type": "code",
      "source": [
        "Car1.drive()"
      ],
      "metadata": {
        "colab": {
          "base_uri": "https://localhost:8080/"
        },
        "id": "aot_Uo-vvd_K",
        "outputId": "2411a4c4-884a-4ef8-aeab-6d1306389403"
      },
      "execution_count": 22,
      "outputs": [
        {
          "output_type": "stream",
          "name": "stdout",
          "text": [
            "I`m driving\n"
          ]
        }
      ]
    },
    {
      "cell_type": "code",
      "source": [
        "# same result but never do this\n",
        "Car.drive(Car1)"
      ],
      "metadata": {
        "colab": {
          "base_uri": "https://localhost:8080/"
        },
        "id": "nNAXT6iRvuOW",
        "outputId": "f8e09518-388c-4504-bb74-0d7c98d07b2c"
      },
      "execution_count": 23,
      "outputs": [
        {
          "output_type": "stream",
          "name": "stdout",
          "text": [
            "I`m driving\n"
          ]
        }
      ]
    },
    {
      "cell_type": "code",
      "source": [
        "class Test:\n",
        "    def run1(self):\n",
        "        print(\"run1\")\n",
        "    \n",
        "    def run2():\n",
        "        print(\"run2\")\n",
        "\n",
        "t = Test()"
      ],
      "metadata": {
        "id": "1ZwbYUFsvwk9"
      },
      "execution_count": 24,
      "outputs": []
    },
    {
      "cell_type": "code",
      "source": [
        "t.run1()"
      ],
      "metadata": {
        "colab": {
          "base_uri": "https://localhost:8080/"
        },
        "id": "blgQ5kbq2Lb_",
        "outputId": "46c46189-a063-4fa7-d6d9-6c5c91febd4a"
      },
      "execution_count": 25,
      "outputs": [
        {
          "output_type": "stream",
          "name": "stdout",
          "text": [
            "run1\n"
          ]
        }
      ]
    },
    {
      "cell_type": "code",
      "source": [
        "# self was given. self is instance object self\n",
        "t.run2()"
      ],
      "metadata": {
        "colab": {
          "base_uri": "https://localhost:8080/",
          "height": 172
        },
        "id": "HMyKJ-hB2PL0",
        "outputId": "dfbb28b4-3538-4847-cda6-fdb4c49e0f24"
      },
      "execution_count": 26,
      "outputs": [
        {
          "output_type": "error",
          "ename": "TypeError",
          "evalue": "ignored",
          "traceback": [
            "\u001b[0;31m---------------------------------------------------------------------------\u001b[0m",
            "\u001b[0;31mTypeError\u001b[0m                                 Traceback (most recent call last)",
            "\u001b[0;32m<ipython-input-26-3299b0fcd368>\u001b[0m in \u001b[0;36m<module>\u001b[0;34m()\u001b[0m\n\u001b[0;32m----> 1\u001b[0;31m \u001b[0mt\u001b[0m\u001b[0;34m.\u001b[0m\u001b[0mrun2\u001b[0m\u001b[0;34m(\u001b[0m\u001b[0;34m)\u001b[0m\u001b[0;34m\u001b[0m\u001b[0;34m\u001b[0m\u001b[0m\n\u001b[0m",
            "\u001b[0;31mTypeError\u001b[0m: run2() takes 0 positional arguments but 1 was given"
          ]
        }
      ]
    },
    {
      "cell_type": "code",
      "source": [
        "class Test2:\n",
        "    def run1(self, a):\n",
        "        self.a = float(a) * 10\n",
        "        print(self.a)\n",
        "    \n",
        "    def run2(self, b):\n",
        "        b = float(b) * 10\n",
        "        print(self.b)\n",
        "\n",
        "t = Test2()"
      ],
      "metadata": {
        "id": "DO1IeTUO2Qad"
      },
      "execution_count": 28,
      "outputs": []
    },
    {
      "cell_type": "code",
      "source": [
        "t.run1(1)"
      ],
      "metadata": {
        "colab": {
          "base_uri": "https://localhost:8080/"
        },
        "id": "pwQHbc2W3MEt",
        "outputId": "f2e9bdaf-d129-47ab-c153-ca186511792b"
      },
      "execution_count": 29,
      "outputs": [
        {
          "output_type": "stream",
          "name": "stdout",
          "text": [
            "10.0\n"
          ]
        }
      ]
    },
    {
      "cell_type": "code",
      "source": [
        "t.run2(1)"
      ],
      "metadata": {
        "colab": {
          "base_uri": "https://localhost:8080/",
          "height": 299
        },
        "id": "3KDvD0Qg3Qkw",
        "outputId": "2067255d-1ef4-4f1f-bf6a-8c38eab5ff32"
      },
      "execution_count": 30,
      "outputs": [
        {
          "output_type": "error",
          "ename": "AttributeError",
          "evalue": "ignored",
          "traceback": [
            "\u001b[0;31m---------------------------------------------------------------------------\u001b[0m",
            "\u001b[0;31mAttributeError\u001b[0m                            Traceback (most recent call last)",
            "\u001b[0;32m<ipython-input-30-c09fe4c96ef9>\u001b[0m in \u001b[0;36m<module>\u001b[0;34m()\u001b[0m\n\u001b[0;32m----> 1\u001b[0;31m \u001b[0mt\u001b[0m\u001b[0;34m.\u001b[0m\u001b[0mrun2\u001b[0m\u001b[0;34m(\u001b[0m\u001b[0;36m1\u001b[0m\u001b[0;34m)\u001b[0m\u001b[0;34m\u001b[0m\u001b[0;34m\u001b[0m\u001b[0m\n\u001b[0m",
            "\u001b[0;32m<ipython-input-28-941a3ae5e58f>\u001b[0m in \u001b[0;36mrun2\u001b[0;34m(self, b)\u001b[0m\n\u001b[1;32m      6\u001b[0m     \u001b[0;32mdef\u001b[0m \u001b[0mrun2\u001b[0m\u001b[0;34m(\u001b[0m\u001b[0mself\u001b[0m\u001b[0;34m,\u001b[0m \u001b[0mb\u001b[0m\u001b[0;34m)\u001b[0m\u001b[0;34m:\u001b[0m\u001b[0;34m\u001b[0m\u001b[0;34m\u001b[0m\u001b[0m\n\u001b[1;32m      7\u001b[0m         \u001b[0mb\u001b[0m \u001b[0;34m=\u001b[0m \u001b[0mfloat\u001b[0m\u001b[0;34m(\u001b[0m\u001b[0mb\u001b[0m\u001b[0;34m)\u001b[0m \u001b[0;34m*\u001b[0m \u001b[0;36m10\u001b[0m\u001b[0;34m\u001b[0m\u001b[0;34m\u001b[0m\u001b[0m\n\u001b[0;32m----> 8\u001b[0;31m         \u001b[0mprint\u001b[0m\u001b[0;34m(\u001b[0m\u001b[0mself\u001b[0m\u001b[0;34m.\u001b[0m\u001b[0mb\u001b[0m\u001b[0;34m)\u001b[0m\u001b[0;34m\u001b[0m\u001b[0;34m\u001b[0m\u001b[0m\n\u001b[0m\u001b[1;32m      9\u001b[0m \u001b[0;34m\u001b[0m\u001b[0m\n\u001b[1;32m     10\u001b[0m \u001b[0mt\u001b[0m \u001b[0;34m=\u001b[0m \u001b[0mTest2\u001b[0m\u001b[0;34m(\u001b[0m\u001b[0;34m)\u001b[0m\u001b[0;34m\u001b[0m\u001b[0;34m\u001b[0m\u001b[0m\n",
            "\u001b[0;31mAttributeError\u001b[0m: 'Test2' object has no attribute 'b'"
          ]
        }
      ]
    },
    {
      "cell_type": "markdown",
      "source": [
        "## Constructor  \n",
        "Many classes like to create objects with instances customized to a specific initial state  \n",
        "[Python Document, Class](https://docs.python.org/3.8/tutorial/classes.html)"
      ],
      "metadata": {
        "id": "tW9iLBd33nt9"
      }
    },
    {
      "cell_type": "code",
      "source": [
        "def __init__(self):\n",
        "    self.data = []"
      ],
      "metadata": {
        "id": "mMAMZe0-3RrD"
      },
      "execution_count": 31,
      "outputs": []
    },
    {
      "cell_type": "code",
      "source": [
        "# practice with Car class\n",
        "class Car:\n",
        "    color = 'red'\n",
        "    category = 'sports car'\n",
        "\n",
        "    def drive(self):\n",
        "        print(\"I`m driving\")\n",
        "    \n",
        "    def accel(self, speed_up, current_speed=10):\n",
        "        self.speed_up = speed_up\n",
        "        self.current_speed = current_speed + self.current_speed\n",
        "        print(\"speed up\", self.speed_up, \"driving at\", self.current_speed)"
      ],
      "metadata": {
        "id": "kV8lUVtG4nG2"
      },
      "execution_count": 32,
      "outputs": []
    },
    {
      "cell_type": "code",
      "source": [
        "# Car class with constructor\n",
        "class Car2:\n",
        "    def __init__(self, color, category):\n",
        "        self.color = color\n",
        "        self.category = category\n",
        "    \n",
        "    def drive(self):\n",
        "        print(\"I`m driving\")\n",
        "    \n",
        "    def accel(self, speed_up, current_speed=10):\n",
        "        self.speed_up = speed_up\n",
        "        self.current_speed = current_speed + self.current_speed\n",
        "        print(\"speed up\", self.speed_up, \"driving at\", self.current_speed)"
      ],
      "metadata": {
        "id": "a4onN-3N5RzD"
      },
      "execution_count": 33,
      "outputs": []
    },
    {
      "cell_type": "code",
      "source": [
        "car1 = Car()\n",
        "car2 = Car2('yellow', 'sedan')"
      ],
      "metadata": {
        "id": "BMsrOKKf5kQB"
      },
      "execution_count": 34,
      "outputs": []
    },
    {
      "cell_type": "code",
      "source": [
        "car1.color"
      ],
      "metadata": {
        "colab": {
          "base_uri": "https://localhost:8080/",
          "height": 35
        },
        "id": "ecW8Ya-A5wVt",
        "outputId": "43c528a1-ac32-405f-c28b-03335010eabd"
      },
      "execution_count": 35,
      "outputs": [
        {
          "output_type": "execute_result",
          "data": {
            "application/vnd.google.colaboratory.intrinsic+json": {
              "type": "string"
            },
            "text/plain": [
              "'red'"
            ]
          },
          "metadata": {},
          "execution_count": 35
        }
      ]
    },
    {
      "cell_type": "code",
      "source": [
        "car2.color"
      ],
      "metadata": {
        "colab": {
          "base_uri": "https://localhost:8080/",
          "height": 35
        },
        "id": "EpBm3Bav5zVu",
        "outputId": "8db340e4-01ae-4ca1-869d-4c5469635e09"
      },
      "execution_count": 36,
      "outputs": [
        {
          "output_type": "execute_result",
          "data": {
            "application/vnd.google.colaboratory.intrinsic+json": {
              "type": "string"
            },
            "text/plain": [
              "'yellow'"
            ]
          },
          "metadata": {},
          "execution_count": 36
        }
      ]
    },
    {
      "cell_type": "code",
      "source": [
        "print(car1.category, car2.category)"
      ],
      "metadata": {
        "colab": {
          "base_uri": "https://localhost:8080/"
        },
        "id": "l9_g-iod50jP",
        "outputId": "d49f2ec6-106d-496f-a068-c6dab25c9c79"
      },
      "execution_count": 37,
      "outputs": [
        {
          "output_type": "stream",
          "name": "stdout",
          "text": [
            "sports car sedan\n"
          ]
        }
      ]
    },
    {
      "cell_type": "code",
      "source": [
        "# default value is possible like function\n",
        "class Car2:\n",
        "    def __init__(self, color='red', category=\"sports car\"):\n",
        "        self.color = color\n",
        "        self.category = category"
      ],
      "metadata": {
        "id": "P_Dhwi3V57RJ"
      },
      "execution_count": 38,
      "outputs": []
    },
    {
      "cell_type": "markdown",
      "source": [
        "## Class variable,  Instance variable"
      ],
      "metadata": {
        "id": "xhV2VgM26jzq"
      }
    },
    {
      "cell_type": "code",
      "source": [
        "class Car:\n",
        "    Manufacture = \"India\"\n",
        "\n",
        "    def __init__(self, color, category=\"sedan\"):\n",
        "        self.color = color\n",
        "        self.category = category"
      ],
      "metadata": {
        "id": "vjb-O2uY6Qme"
      },
      "execution_count": 39,
      "outputs": []
    },
    {
      "cell_type": "code",
      "source": [
        "# what is shared and not shared\n",
        "socar1 = Car('red','sports car')\n",
        "socar2 = Car('white')\n",
        "print(socar1.Manufacture, socar1.color, socar1.category)\n",
        "print(socar2.Manufacture, socar2.color, socar2.category)"
      ],
      "metadata": {
        "colab": {
          "base_uri": "https://localhost:8080/"
        },
        "id": "XSziTzoT689Z",
        "outputId": "a0f40c42-5af3-48ff-e963-20a9ec1b305b"
      },
      "execution_count": 41,
      "outputs": [
        {
          "output_type": "stream",
          "name": "stdout",
          "text": [
            "India red sports car\n",
            "India white sedan\n"
          ]
        }
      ]
    },
    {
      "cell_type": "markdown",
      "source": [
        "## Class Inheritance"
      ],
      "metadata": {
        "id": "SELGn0tI74cB"
      }
    },
    {
      "cell_type": "code",
      "source": [
        "class Car:\n",
        "    Manufacture = \"India\"\n",
        "\n",
        "    def __init__(self, color='red', category='sedan'):\n",
        "        self.color = color\n",
        "        self.category = category\n",
        "    \n",
        "    def drive(self):\n",
        "        print(\"I`m driving\")\n",
        "    \n",
        "    def accel(self, speed_up, current_speed=10):\n",
        "        self.speed_up = speed_up\n",
        "        self.current_speed = current_speed + self.speed_up\n",
        "        print(\"speed up\", self.speed_up, \"driving at\", self.current_speed)"
      ],
      "metadata": {
        "id": "54x9aBys7Obn"
      },
      "execution_count": 42,
      "outputs": []
    },
    {
      "cell_type": "code",
      "source": [
        "# new class with no code\n",
        "class NewCar(Car):\n",
        "    pass\n",
        "\n",
        "socar = NewCar()\n",
        "socar.drive()\n",
        "socar.accel(10)"
      ],
      "metadata": {
        "colab": {
          "base_uri": "https://localhost:8080/"
        },
        "id": "Ar5O2O-G9Atb",
        "outputId": "f016afd8-71a3-48b5-c0d7-92f26145a2be"
      },
      "execution_count": 43,
      "outputs": [
        {
          "output_type": "stream",
          "name": "stdout",
          "text": [
            "I`m driving\n",
            "speed up 10 driving at 20\n"
          ]
        }
      ]
    },
    {
      "cell_type": "code",
      "source": [
        "# just class attribute change\n",
        "class NewCar(Car):\n",
        "    maker = \"Porsche\"\n",
        "\n",
        "sportscar = NewCar()\n",
        "sportscar.maker"
      ],
      "metadata": {
        "colab": {
          "base_uri": "https://localhost:8080/",
          "height": 35
        },
        "id": "8mVttOHc9H_u",
        "outputId": "31887ab8-1098-4e3d-951c-c915a2860ce8"
      },
      "execution_count": 44,
      "outputs": [
        {
          "output_type": "execute_result",
          "data": {
            "application/vnd.google.colaboratory.intrinsic+json": {
              "type": "string"
            },
            "text/plain": [
              "'Porsche'"
            ]
          },
          "metadata": {},
          "execution_count": 44
        }
      ]
    },
    {
      "cell_type": "markdown",
      "source": [
        "### The 3 ways of class inheritance\n",
        "* add method\n",
        "* override method\n",
        "* call super class, super() "
      ],
      "metadata": {
        "id": "_EJiMqEF95da"
      }
    },
    {
      "cell_type": "code",
      "source": [
        "# add method\n",
        "class NewCar(Car):\n",
        "    def autonomous_drive(self):\n",
        "        print(\"Autonomous driving is on\")"
      ],
      "metadata": {
        "id": "nwsUedB59kUX"
      },
      "execution_count": 45,
      "outputs": []
    },
    {
      "cell_type": "code",
      "source": [
        "# override method\n",
        "class NewCar(Car):\n",
        "    def drive(self):\n",
        "        print(\"even drive is auto\")"
      ],
      "metadata": {
        "id": "7Lp6rmxM-qwg"
      },
      "execution_count": 46,
      "outputs": []
    },
    {
      "cell_type": "code",
      "source": [
        "# call super class, super class`s changed value will be affected to subclass\n",
        "class NewCar(Car):\n",
        "    def __init__(self, color, category, maker):\n",
        "        super().__init__(color, category)\n",
        "        self.maker\n",
        "    \n",
        "    def autonomous_drive(self):\n",
        "        print(\"Autonomous driving is on\")\n",
        "    \n",
        "    def accel(self, speed_up, level=1, current_speed=10):\n",
        "        self.boost[level] = {1 : 0, 2 : 30, 3 : 50}\n",
        "        self.speed_up = speed_up + self.boost[level]\n",
        "        self.current_speed = current_speed + self.speed_up\n",
        "        print(\"speed up\", self.speed_up, \"driving at\", self.current_speed)"
      ],
      "metadata": {
        "id": "OzbWn3L_-7O5"
      },
      "execution_count": 47,
      "outputs": []
    },
    {
      "cell_type": "markdown",
      "source": [
        "## Create Dice"
      ],
      "metadata": {
        "id": "QHhzFKffAQQv"
      }
    },
    {
      "cell_type": "markdown",
      "source": [
        "* what I made"
      ],
      "metadata": {
        "id": "5eqxf_MODcIH"
      }
    },
    {
      "cell_type": "code",
      "source": [
        "import numpy as np\n",
        "\n",
        "class Dice:\n",
        "    def __init__(self):\n",
        "        self.history = []\n",
        "        try:\n",
        "            self.n = int(input())\n",
        "        except:\n",
        "            print(\"value should be int\")\n",
        "    \n",
        "    def roll(self):\n",
        "        result = np.random.randint(self.n)\n",
        "        self.history.append(result)\n",
        "        return result\n",
        "    \n",
        "        \n"
      ],
      "metadata": {
        "id": "0f0YAcJS_50W"
      },
      "execution_count": 67,
      "outputs": []
    },
    {
      "cell_type": "code",
      "source": [
        "playdice = Dice()"
      ],
      "metadata": {
        "colab": {
          "base_uri": "https://localhost:8080/"
        },
        "id": "TyBb4xFjEBdC",
        "outputId": "bca1673a-f965-48a8-ab17-2f76529fcd5a"
      },
      "execution_count": 68,
      "outputs": [
        {
          "name": "stdout",
          "output_type": "stream",
          "text": [
            "10\n"
          ]
        }
      ]
    },
    {
      "cell_type": "code",
      "source": [
        "for i in range(10):\n",
        "    playdice.roll()"
      ],
      "metadata": {
        "id": "IadOa5XdEGi1"
      },
      "execution_count": 69,
      "outputs": []
    },
    {
      "cell_type": "code",
      "source": [
        "playdice.history"
      ],
      "metadata": {
        "colab": {
          "base_uri": "https://localhost:8080/"
        },
        "id": "Bcfk-AkFEGSI",
        "outputId": "38d5e38e-656e-4b01-cd2d-ca408e07a341"
      },
      "execution_count": 70,
      "outputs": [
        {
          "output_type": "execute_result",
          "data": {
            "text/plain": [
              "[8, 1, 7, 2, 6, 7, 8, 0, 7, 6]"
            ]
          },
          "metadata": {},
          "execution_count": 70
        }
      ]
    },
    {
      "cell_type": "markdown",
      "source": [
        "* basic example"
      ],
      "metadata": {
        "id": "CpaHrcGVDYYG"
      }
    },
    {
      "cell_type": "code",
      "source": [
        "# funnydice.py\n",
        "\n",
        "from random import randrange\n",
        "\n",
        "class FunnyDice:\n",
        "    def __init__(self, n=6):\n",
        "        self.n = n\n",
        "        self.options = list(range(1, n+1))\n",
        "        self.index = randrange(0, self.n)\n",
        "        self.val = self.options[self.index]\n",
        "    \n",
        "    def throw(self):\n",
        "        self.index = randrange(0, self.n)\n",
        "        self.val = self.options[self.index]\n",
        "    \n",
        "    def getval(self):\n",
        "        return self.val\n",
        "    \n",
        "    def setval(self, val):\n",
        "        if val <= self.n:\n",
        "            self.val = val\n",
        "        else:\n",
        "            msg = \"주사위에 없는 숫자입니다. 주사위는 1 ~ {0}까지 있습니다. \".format(self.n)\n",
        "            raise ValueError(msg)\n",
        "\n",
        "def get_inputs():\n",
        "    n = int(input(\"주사위 면의 개수를 입력하세요: \"))\n",
        "    return n\n",
        "\n",
        "def main():\n",
        "    n = get_inputs()\n",
        "    mydice = FunnyDice(n)\n",
        "    mydice.throw()\n",
        "    print(\"행운의 숫자는? {0}\".format(mydice.getval()))\n",
        "\n",
        "if __name__ == '__main__':\n",
        "    main()"
      ],
      "metadata": {
        "id": "5ADINA-cDUPz"
      },
      "execution_count": null,
      "outputs": []
    },
    {
      "cell_type": "code",
      "source": [
        ""
      ],
      "metadata": {
        "id": "NUrGhbEpBmxB"
      },
      "execution_count": null,
      "outputs": []
    }
  ]
}